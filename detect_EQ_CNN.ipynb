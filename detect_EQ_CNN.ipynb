{
 "cells": [
  {
   "cell_type": "code",
   "execution_count": 20,
   "metadata": {},
   "outputs": [],
   "source": [
    "from keras.utils import np_utils\n",
    "import numpy as np\n",
    "np.random.seed(10)"
   ]
  },
  {
   "cell_type": "code",
   "execution_count": 21,
   "metadata": {},
   "outputs": [],
   "source": [
    "y_train_label=np.loadtxt('label.txt',delimiter=\",\")\n",
    "x_Train=np.loadtxt('feature.txt',delimiter=\",\")"
   ]
  },
  {
   "cell_type": "code",
   "execution_count": 22,
   "metadata": {},
   "outputs": [],
   "source": [
    "y_test_label=np.loadtxt('test_label.txt',delimiter=\",\")\n",
    "x_Test=np.loadtxt('test_feature.txt',delimiter=\",\")"
   ]
  },
  {
   "cell_type": "code",
   "execution_count": 23,
   "metadata": {},
   "outputs": [],
   "source": [
    "x_Train4D=x_Train.reshape(252,11,91,1).astype('float32')\n",
    "x_Test4D=x_Test.reshape(252,11,91,1).astype('float32')"
   ]
  },
  {
   "cell_type": "code",
   "execution_count": 43,
   "metadata": {},
   "outputs": [
    {
     "data": {
      "text/plain": [
       "587293.0"
      ]
     },
     "execution_count": 43,
     "metadata": {},
     "output_type": "execute_result"
    }
   ],
   "source": [
    "x_Train4D.max()"
   ]
  },
  {
   "cell_type": "code",
   "execution_count": 80,
   "metadata": {},
   "outputs": [],
   "source": [
    "x_Train4D_normalize=[]\n",
    "for i in x_Train4D:\n",
    "    new_i = i/i.max()\n",
    "    x_Train4D_normalize.append(new_i)\n",
    "x_Train4D_normalize=np.array(x_Train4D_normalize)"
   ]
  },
  {
   "cell_type": "code",
   "execution_count": 81,
   "metadata": {},
   "outputs": [],
   "source": [
    "x_Test4D_normalize=[]\n",
    "for i in x_Test4D:\n",
    "    new_i = i/i.max()\n",
    "    x_Test4D_normalize.append(new_i)\n",
    "x_Test4D_normalize=np.array(x_Test4D_normalize)"
   ]
  },
  {
   "cell_type": "code",
   "execution_count": 29,
   "metadata": {},
   "outputs": [],
   "source": [
    "y_Train_OneHot = np_utils.to_categorical(y_train_label)\n",
    "y_Test_OneHot = np_utils.to_categorical(y_test_label)"
   ]
  },
  {
   "cell_type": "code",
   "execution_count": 86,
   "metadata": {},
   "outputs": [
    {
     "data": {
      "text/plain": [
       "(252, 11, 91, 1)"
      ]
     },
     "execution_count": 86,
     "metadata": {},
     "output_type": "execute_result"
    }
   ],
   "source": [
    "x_Test4D_normalize.shape\n"
   ]
  },
  {
   "cell_type": "code",
   "execution_count": 87,
   "metadata": {},
   "outputs": [
    {
     "data": {
      "text/plain": [
       "(252, 2)"
      ]
     },
     "execution_count": 87,
     "metadata": {},
     "output_type": "execute_result"
    }
   ],
   "source": [
    "y_Train_OneHot.shape"
   ]
  },
  {
   "cell_type": "code",
   "execution_count": 103,
   "metadata": {},
   "outputs": [],
   "source": [
    "from keras.models import Sequential\n",
    "from keras.layers import Dense,Dropout,Flatten,Conv2D,MaxPooling2D"
   ]
  },
  {
   "cell_type": "code",
   "execution_count": 104,
   "metadata": {},
   "outputs": [],
   "source": [
    "model = Sequential()"
   ]
  },
  {
   "cell_type": "code",
   "execution_count": 105,
   "metadata": {},
   "outputs": [],
   "source": [
    "model.add(Conv2D(filters=16,\n",
    "                 kernel_size=(5,5),\n",
    "                 padding='same',\n",
    "                 input_shape=(11,91,1), \n",
    "                 activation='relu'))"
   ]
  },
  {
   "cell_type": "code",
   "execution_count": 106,
   "metadata": {},
   "outputs": [],
   "source": [
    "model.add(MaxPooling2D(pool_size=(2, 2)))"
   ]
  },
  {
   "cell_type": "code",
   "execution_count": 107,
   "metadata": {},
   "outputs": [],
   "source": [
    "model.add(Conv2D(filters=36,\n",
    "                 kernel_size=(5,5),\n",
    "                 padding='same',\n",
    "                 activation='relu'))"
   ]
  },
  {
   "cell_type": "code",
   "execution_count": 108,
   "metadata": {},
   "outputs": [],
   "source": [
    "model.add(MaxPooling2D(pool_size=(2, 2)))"
   ]
  },
  {
   "cell_type": "code",
   "execution_count": 109,
   "metadata": {},
   "outputs": [],
   "source": [
    "model.add(Dropout(0.25))"
   ]
  },
  {
   "cell_type": "code",
   "execution_count": 110,
   "metadata": {},
   "outputs": [],
   "source": [
    "model.add(Flatten())"
   ]
  },
  {
   "cell_type": "code",
   "execution_count": 111,
   "metadata": {},
   "outputs": [],
   "source": [
    "model.add(Dense(128, activation='relu'))"
   ]
  },
  {
   "cell_type": "code",
   "execution_count": 112,
   "metadata": {},
   "outputs": [],
   "source": [
    "model.add(Dropout(0.5))"
   ]
  },
  {
   "cell_type": "code",
   "execution_count": 117,
   "metadata": {},
   "outputs": [],
   "source": [
    "model.add(Dense(2,activation='softmax'))"
   ]
  },
  {
   "cell_type": "code",
   "execution_count": 118,
   "metadata": {},
   "outputs": [
    {
     "name": "stdout",
     "output_type": "stream",
     "text": [
      "Model: \"sequential_4\"\n",
      "_________________________________________________________________\n",
      "Layer (type)                 Output Shape              Param #   \n",
      "=================================================================\n",
      "conv2d_12 (Conv2D)           (None, 11, 91, 16)        416       \n",
      "_________________________________________________________________\n",
      "max_pooling2d_11 (MaxPooling (None, 5, 45, 16)         0         \n",
      "_________________________________________________________________\n",
      "conv2d_13 (Conv2D)           (None, 5, 45, 36)         14436     \n",
      "_________________________________________________________________\n",
      "max_pooling2d_12 (MaxPooling (None, 2, 22, 36)         0         \n",
      "_________________________________________________________________\n",
      "dropout_9 (Dropout)          (None, 2, 22, 36)         0         \n",
      "_________________________________________________________________\n",
      "flatten_5 (Flatten)          (None, 1584)              0         \n",
      "_________________________________________________________________\n",
      "dense_9 (Dense)              (None, 128)               202880    \n",
      "_________________________________________________________________\n",
      "dropout_10 (Dropout)         (None, 128)               0         \n",
      "_________________________________________________________________\n",
      "dense_10 (Dense)             (None, 10)                1290      \n",
      "_________________________________________________________________\n",
      "dense_11 (Dense)             (None, 2)                 22        \n",
      "=================================================================\n",
      "Total params: 219,044\n",
      "Trainable params: 219,044\n",
      "Non-trainable params: 0\n",
      "_________________________________________________________________\n",
      "None\n"
     ]
    }
   ],
   "source": [
    "print(model.summary())"
   ]
  },
  {
   "cell_type": "code",
   "execution_count": null,
   "metadata": {},
   "outputs": [],
   "source": []
  },
  {
   "cell_type": "code",
   "execution_count": 119,
   "metadata": {},
   "outputs": [],
   "source": [
    "model.compile(loss='categorical_crossentropy',\n",
    "              optimizer='adam',metrics=['accuracy'])"
   ]
  },
  {
   "cell_type": "code",
   "execution_count": 120,
   "metadata": {},
   "outputs": [
    {
     "name": "stdout",
     "output_type": "stream",
     "text": [
      "Epoch 1/20\n",
      "7/7 - 1s - loss: 0.5422 - accuracy: 0.8756 - val_loss: 1.0343 - val_accuracy: 0.1569\n",
      "Epoch 2/20\n",
      "7/7 - 1s - loss: 0.3518 - accuracy: 1.0000 - val_loss: 1.0905 - val_accuracy: 0.1569\n",
      "Epoch 3/20\n",
      "7/7 - 1s - loss: 0.3429 - accuracy: 1.0000 - val_loss: 1.1058 - val_accuracy: 0.1569\n",
      "Epoch 4/20\n",
      "7/7 - 1s - loss: 0.3349 - accuracy: 1.0000 - val_loss: 1.1211 - val_accuracy: 0.1569\n",
      "Epoch 5/20\n",
      "7/7 - 1s - loss: 0.3272 - accuracy: 1.0000 - val_loss: 1.1365 - val_accuracy: 0.1569\n",
      "Epoch 6/20\n",
      "7/7 - 1s - loss: 0.3197 - accuracy: 1.0000 - val_loss: 1.1520 - val_accuracy: 0.1569\n",
      "Epoch 7/20\n",
      "7/7 - 1s - loss: 0.3124 - accuracy: 1.0000 - val_loss: 1.1674 - val_accuracy: 0.1569\n",
      "Epoch 8/20\n",
      "7/7 - 1s - loss: 0.3053 - accuracy: 1.0000 - val_loss: 1.1829 - val_accuracy: 0.1569\n",
      "Epoch 9/20\n",
      "7/7 - 1s - loss: 0.2984 - accuracy: 1.0000 - val_loss: 1.1983 - val_accuracy: 0.1569\n",
      "Epoch 10/20\n",
      "7/7 - 1s - loss: 0.2917 - accuracy: 1.0000 - val_loss: 1.2137 - val_accuracy: 0.1569\n",
      "Epoch 11/20\n",
      "7/7 - 1s - loss: 0.2852 - accuracy: 1.0000 - val_loss: 1.2291 - val_accuracy: 0.1569\n",
      "Epoch 12/20\n",
      "7/7 - 1s - loss: 0.2789 - accuracy: 1.0000 - val_loss: 1.2444 - val_accuracy: 0.1569\n",
      "Epoch 13/20\n",
      "7/7 - 1s - loss: 0.2727 - accuracy: 1.0000 - val_loss: 1.2597 - val_accuracy: 0.1569\n",
      "Epoch 14/20\n",
      "7/7 - 1s - loss: 0.2668 - accuracy: 1.0000 - val_loss: 1.2750 - val_accuracy: 0.1569\n",
      "Epoch 15/20\n",
      "7/7 - 1s - loss: 0.2610 - accuracy: 1.0000 - val_loss: 1.2902 - val_accuracy: 0.1569\n",
      "Epoch 16/20\n",
      "7/7 - 1s - loss: 0.2554 - accuracy: 1.0000 - val_loss: 1.3054 - val_accuracy: 0.1569\n",
      "Epoch 17/20\n",
      "7/7 - 1s - loss: 0.2499 - accuracy: 1.0000 - val_loss: 1.3205 - val_accuracy: 0.1569\n",
      "Epoch 18/20\n",
      "7/7 - 1s - loss: 0.2446 - accuracy: 1.0000 - val_loss: 1.3356 - val_accuracy: 0.1569\n",
      "Epoch 19/20\n",
      "7/7 - 1s - loss: 0.2394 - accuracy: 1.0000 - val_loss: 1.3506 - val_accuracy: 0.1569\n",
      "Epoch 20/20\n",
      "7/7 - 1s - loss: 0.2344 - accuracy: 1.0000 - val_loss: 1.3656 - val_accuracy: 0.1569\n"
     ]
    }
   ],
   "source": [
    "train_history=model.fit(x=x_Train4D_normalize, \n",
    "                        y=y_Train_OneHot,validation_split=0.2, \n",
    "                        epochs=20, batch_size=30,verbose=2)"
   ]
  },
  {
   "cell_type": "code",
   "execution_count": 121,
   "metadata": {},
   "outputs": [],
   "source": [
    "import matplotlib.pyplot as plt\n",
    "def show_train_history(train_acc,test_acc):\n",
    "    plt.plot(train_history.history[train_acc])\n",
    "    plt.plot(train_history.history[test_acc])\n",
    "    plt.title('Train History')\n",
    "    plt.ylabel('Accuracy')\n",
    "    plt.xlabel('Epoch')\n",
    "    plt.legend(['train', 'test'], loc='upper left')\n",
    "    plt.show()"
   ]
  },
  {
   "cell_type": "code",
   "execution_count": 122,
   "metadata": {},
   "outputs": [
    {
     "data": {
      "image/png": "[encoded data removed]",
      "text/plain": [
       "<Figure size 432x288 with 1 Axes>"
      ]
     },
     "metadata": {
      "needs_background": "light"
     },
     "output_type": "display_data"
    }
   ],
   "source": [
    "show_train_history('accuracy','val_accuracy')"
   ]
  },
  {
   "cell_type": "code",
   "execution_count": 123,
   "metadata": {},
   "outputs": [
    {
     "data": {
      "image/png": "[encoded data removed]",
      "text/plain": [
       "<Figure size 432x288 with 1 Axes>"
      ]
     },
     "metadata": {
      "needs_background": "light"
     },
     "output_type": "display_data"
    }
   ],
   "source": [
    "show_train_history('loss','val_loss')"
   ]
  },
  {
   "cell_type": "code",
   "execution_count": null,
   "metadata": {},
   "outputs": [],
   "source": []
  },
  {
   "cell_type": "code",
   "execution_count": null,
   "metadata": {},
   "outputs": [],
   "source": []
  }
 ],
 "metadata": {
  "kernelspec": {
   "display_name": "Python 3",
   "language": "python",
   "name": "python3"
  },
  "language_info": {
   "codemirror_mode": {
    "name": "ipython",
    "version": 3
   },
   "file_extension": ".py",
   "mimetype": "text/x-python",
   "name": "python",
   "nbconvert_exporter": "python",
   "pygments_lexer": "ipython3",
   "version": "3.7.6"
  }
 },
 "nbformat": 4,
 "nbformat_minor": 4
}

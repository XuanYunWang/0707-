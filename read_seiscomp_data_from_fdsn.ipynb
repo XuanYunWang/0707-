{
 "cells": [
  {
   "cell_type": "code",
   "execution_count": 1,
   "metadata": {},
   "outputs": [],
   "source": [
    "from obspy.clients.fdsn import Client\n",
    "from obspy import UTCDateTime\n",
    "import numpy as np\n",
    "%matplotlib inline"
   ]
  },
  {
   "cell_type": "code",
   "execution_count": 2,
   "metadata": {},
   "outputs": [],
   "source": [
    "client = Client(\"IRIS\")"
   ]
  },
  {
   "cell_type": "code",
   "execution_count": 3,
   "metadata": {},
   "outputs": [],
   "source": [
    "\n",
    "t1 = UTCDateTime(\"2019-01-07T00:00:00\")\n",
    "t2 = UTCDateTime(\"2020-01-07T00:00:00\")\n",
    "event_list = client.get_events(starttime=t1, endtime=t2, minmagnitude=6)"
   ]
  },
  {
   "cell_type": "code",
   "execution_count": 4,
   "metadata": {},
   "outputs": [
    {
     "data": {
      "text/plain": [
       "141 Event(s) in Catalog:\n",
       "2019-12-25T20:20:12.751000Z | -25.223, -115.844 | 6.1 Mww\n",
       "2019-12-25T03:36:01.578000Z | +50.608, -129.966 | 6.3 mww\n",
       "...\n",
       "2019-01-15T18:06:34.290000Z | -13.331, +166.879 | 6.6 mww\n",
       "2019-01-08T12:39:31.040000Z | +30.593, +131.037 | 6.3 Mww\n",
       "To see all events call 'print(CatalogObject.__str__(print_all=True))'"
      ]
     },
     "execution_count": 4,
     "metadata": {},
     "output_type": "execute_result"
    }
   ],
   "source": [
    "event_list"
   ]
  },
  {
   "cell_type": "code",
   "execution_count": 6,
   "metadata": {},
   "outputs": [],
   "source": [
    "inventory = client.get_stations(network=\"IU\", station=\"*\",starttime=t1,endtime=t2)"
   ]
  },
  {
   "cell_type": "code",
   "execution_count": 7,
   "metadata": {},
   "outputs": [
    {
     "data": {
      "text/plain": [
       "Inventory created at 2020-08-04T04:07:28.000000Z\n",
       "\tCreated by: IRIS WEB SERVICE: fdsnws-station | version: 1.1.45\n",
       "\t\t    http://service.iris.edu/fdsnws/station/1/query?starttime=2019-01-07...\n",
       "\tSending institution: IRIS-DMC (IRIS-DMC)\n",
       "\tContains:\n",
       "\t\tNetworks (1):\n",
       "\t\t\tIU\n",
       "\t\tStations (81):\n",
       "\t\t\tIU.ADK (Adak, Aleutian Islands, Alaska)\n",
       "\t\t\tIU.AFI (Afiamalu, Samoa)\n",
       "\t\t\tIU.ANMO (Albuquerque, New Mexico, USA)\n",
       "\t\t\tIU.ANTO (Ankara, Turkey)\n",
       "\t\t\tIU.BBSR (Bermuda Institute of Ocean Sciences, St George's Bermuda)\n",
       "\t\t\tIU.BILL (Bilibino, Russia)\n",
       "\t\t\tIU.CASY (Casey, Antarctica)\n",
       "\t\t\tIU.CCM (Cathedral Cave, Missouri, USA)\n",
       "\t\t\tIU.CHTO (Chiang Mai, Thailand)\n",
       "\t\t\tIU.COLA (College Outpost, Alaska, USA)\n",
       "\t\t\tIU.COR (Corvallis, Oregon, USA)\n",
       "\t\t\tIU.CTAO (Charters Towers, Australia) (2x)\n",
       "\t\t\tIU.DAV (Davao, Philippines)\n",
       "\t\t\tIU.DWPF (Disney Wilderness Preserve, Florida, USA)\n",
       "\t\t\tIU.FUNA (Funafuti, Tuvalu)\n",
       "\t\t\tIU.FURI (Mt. Furi, Ethiopia)\n",
       "\t\t\tIU.GNI (Garni, Armenia)\n",
       "\t\t\tIU.GRFO (Grafenberg, Germany)\n",
       "\t\t\tIU.GUMO (Guam, Mariana Islands)\n",
       "\t\t\tIU.HKT (Hockley, Texas)\n",
       "\t\t\tIU.HNR (Honiara, Solomon Islands)\n",
       "\t\t\tIU.HRV (Adam Dziewonski Observatory (Oak Ridge), Massachusetts, USA)\n",
       "\t\t\tIU.INCN (Inchon, Republic of Korea)\n",
       "\t\t\tIU.JOHN (Johnston Island, USA)\n",
       "\t\t\tIU.KBL (Kabul, Afghanistan)\n",
       "\t\t\tIU.KBS (Ny-Alesund, Spitzbergen, Norway)\n",
       "\t\t\tIU.KEV (Kevo, Finland)\n",
       "\t\t\tIU.KIEV (Kiev, Ukraine)\n",
       "\t\t\tIU.KIP (Kipapa, Hawaii, USA)\n",
       "\t\t\tIU.KMBO (Kilima Mbogo, Kenya)\n",
       "\t\t\tIU.KNTN (Kanton, Kiritibati)\n",
       "\t\t\tIU.KONO (Kongsberg, Norway)\n",
       "\t\t\tIU.KOWA (Kowa, Mali)\n",
       "\t\t\tIU.LCO (Las Campanas Astronomical Observatory, Chile)\n",
       "\t\t\tIU.LSZ (Lusaka, Zambia)\n",
       "\t\t\tIU.LVC (Limon Verde, Chile)\n",
       "\t\t\tIU.MA2 (Magadan, Russia)\n",
       "\t\t\tIU.MACI (Morro de la Arena, Canary Islands)\n",
       "\t\t\tIU.MAJO (Matsushiro, Japan)\n",
       "\t\t\tIU.MAKZ (Makanchi, Kazakhstan)\n",
       "\t\t\tIU.MBWA (Marble Bar, Western Australia)\n",
       "\t\t\tIU.MIDW (Midway Island, USA)\n",
       "\t\t\tIU.NWAO (Narrogin, Australia)\n",
       "\t\t\tIU.OTAV (Otavalo, Ecuador)\n",
       "\t\t\tIU.PAB (San Pablo, Spain)\n",
       "\t\t\tIU.PAYG (Puerto Ayora, Galapagos Islands)\n",
       "\t\t\tIU.PET (Petropavlovsk, Russia)\n",
       "\t\t\tIU.PMG (Port Moresby, New Guinea)\n",
       "\t\t\tIU.PMSA (Palmer Station, Antarctica)\n",
       "\t\t\tIU.POHA (Pohakuloa, Hawaii, USA)\n",
       "\t\t\tIU.PTCN (Pitcairn Island, South Pacific)\n",
       "\t\t\tIU.PTGA (Pitinga, Brazil)\n",
       "\t\t\tIU.QSPA (South Pole Remote Earth Science Observatory (Quiet Zone))\n",
       "\t\t\tIU.RAO (Raoul, Kermadec Islands)\n",
       "\t\t\tIU.RAR (Rarotonga, Cook Islands)\n",
       "\t\t\tIU.RCBR (Riachuelo, Brazil)\n",
       "\t\t\tIU.RSSD (Black Hills, South Dakota, USA)\n",
       "\t\t\tIU.SAML (Samuel, Brazil)\n",
       "\t\t\tIU.SBA (Scott Base, Antarctica)\n",
       "\t\t\tIU.SDV (Santo Domingo, Venezuela)\n",
       "\t\t\tIU.SFJD (Sondre Stromfjord, Greenland)\n",
       "\t\t\tIU.SJG (San Juan, Puerto Rico)\n",
       "\t\t\tIU.SLBS (Sierra la Laguna Baja California Sur, Mexico)\n",
       "\t\t\tIU.SNZO (South Karori, New Zealand)\n",
       "\t\t\tIU.SSPA (Standing Stone, Pennsylvania)\n",
       "\t\t\tIU.TARA (Tarawa Island, Republic of Kiribati)\n",
       "\t\t\tIU.TATO (Taipei, Taiwan)\n",
       "\t\t\tIU.TEIG (Tepich, Yucatan, Mexico)\n",
       "\t\t\tIU.TIXI (Tiksi, Russia)\n",
       "\t\t\tIU.TRIS (Tristan da Cunha)\n",
       "\t\t\tIU.TRQA (Tornquist, Argentina)\n",
       "\t\t\tIU.TSUM (Tsumeb, Namibia)\n",
       "\t\t\tIU.TUC (Tucson, Arizona)\n",
       "\t\t\tIU.ULN (Ulaanbaatar, Mongolia)\n",
       "\t\t\tIU.WAKE (Wake Island)\n",
       "\t\t\tIU.WCI (Wyandotte Cave, Indiana, USA)\n",
       "\t\t\tIU.WVT (Waverly, Tennessee, USA)\n",
       "\t\t\tIU.XMAS (Kiritimati Island, Republic of Kiribati)\n",
       "\t\t\tIU.YAK (Yakutsk, Russia)\n",
       "\t\t\tIU.YSS (Yuzhno Sakhalinsk, Russia)\n",
       "\t\tChannels (0):\n"
      ]
     },
     "execution_count": 7,
     "metadata": {},
     "output_type": "execute_result"
    }
   ],
   "source": [
    "inventory"
   ]
  },
  {
   "cell_type": "code",
   "execution_count": 8,
   "metadata": {},
   "outputs": [],
   "source": [
    "#client = Client(\"http://127.0.0.1:1001\")"
   ]
  },
  {
   "cell_type": "code",
   "execution_count": 9,
   "metadata": {},
   "outputs": [],
   "source": [
    "#event_list=client.get_events()"
   ]
  },
  {
   "cell_type": "code",
   "execution_count": 10,
   "metadata": {},
   "outputs": [
    {
     "data": {
      "text/plain": [
       "2019-12-25T03:36:01.578000Z"
      ]
     },
     "execution_count": 10,
     "metadata": {},
     "output_type": "execute_result"
    }
   ],
   "source": [
    "event_list[1].origins[0].time"
   ]
  },
  {
   "cell_type": "code",
   "execution_count": 11,
   "metadata": {},
   "outputs": [],
   "source": [
    "event1=event_list[1]"
   ]
  },
  {
   "cell_type": "code",
   "execution_count": 12,
   "metadata": {},
   "outputs": [],
   "source": [
    "ori1=event1.origins[0]"
   ]
  },
  {
   "cell_type": "code",
   "execution_count": 13,
   "metadata": {},
   "outputs": [
    {
     "data": {
      "text/plain": [
       "2019-12-25T03:36:01.578000Z"
      ]
     },
     "execution_count": 13,
     "metadata": {},
     "output_type": "execute_result"
    }
   ],
   "source": [
    "ori1.time"
   ]
  },
  {
   "cell_type": "code",
   "execution_count": 14,
   "metadata": {},
   "outputs": [],
   "source": [
    "st1 = client.get_waveforms(\"IU\",\"*\",\"*\",\"*\",ori1.time,ori1.time+120)"
   ]
  },
  {
   "cell_type": "code",
   "execution_count": 16,
   "metadata": {},
   "outputs": [],
   "source": [
    "dt = st1[0].stats.starttime"
   ]
  },
  {
   "cell_type": "code",
   "execution_count": 17,
   "metadata": {},
   "outputs": [
    {
     "data": {
      "text/plain": [
       "2019-12-25T03:38:01.569538Z"
      ]
     },
     "execution_count": 17,
     "metadata": {},
     "output_type": "execute_result"
    }
   ],
   "source": [
    "st1[0].stats.endtime"
   ]
  },
  {
   "cell_type": "code",
   "execution_count": 18,
   "metadata": {},
   "outputs": [],
   "source": [
    "fname=i.get_id()+\".png\"\n",
    "st1[0].slice(dt,dt+5).plot(outfile=fname,format=\"png\")"
   ]
  },
  {
   "cell_type": "code",
   "execution_count": 19,
   "metadata": {},
   "outputs": [],
   "source": [
    "dt = st1[0].stats.starttime\n",
    "ed = dt\n",
    "cc=0\n",
    "while True:\n",
    "    ed = ed + 5\n",
    "    fname=i.get_id()+\"_\"+str(cc)+\".png\"\n",
    "    \n",
    "    if ed > st1[0].stats.endtime:\n",
    "        break\n",
    "        \n",
    "    st1[0].slice(dt+cc*5,ed).plot(outfile=fname,format=\"png\")\n",
    "    cc = cc+1"
   ]
  },
  {
   "cell_type": "code",
   "execution_count": 20,
   "metadata": {},
   "outputs": [],
   "source": [
    "from PIL import Image"
   ]
  },
  {
   "cell_type": "code",
   "execution_count": 22,
   "metadata": {},
   "outputs": [],
   "source": [
    "im = Image.open('IU.OTAV.10.BH2_0.png')"
   ]
  },
  {
   "cell_type": "code",
   "execution_count": 28,
   "metadata": {},
   "outputs": [
    {
     "data": {
      "image/png": "[encoded data removed]",
      "text/plain": [
       "<PIL.PngImagePlugin.PngImageFile image mode=RGBA size=800x250 at 0x12DC5C9D188>"
      ]
     },
     "execution_count": 28,
     "metadata": {},
     "output_type": "execute_result"
    }
   ],
   "source": [
    "im"
   ]
  },
  {
   "cell_type": "code",
   "execution_count": 23,
   "metadata": {},
   "outputs": [
    {
     "data": {
      "text/plain": [
       "(800, 250)"
      ]
     },
     "execution_count": 23,
     "metadata": {},
     "output_type": "execute_result"
    }
   ],
   "source": [
    "im.size"
   ]
  },
  {
   "cell_type": "code",
   "execution_count": 24,
   "metadata": {},
   "outputs": [
    {
     "data": {
      "text/plain": [
       "'PNG'"
      ]
     },
     "execution_count": 24,
     "metadata": {},
     "output_type": "execute_result"
    }
   ],
   "source": [
    "im.format"
   ]
  },
  {
   "cell_type": "code",
   "execution_count": 25,
   "metadata": {},
   "outputs": [
    {
     "data": {
      "text/plain": [
       "'RGBA'"
      ]
     },
     "execution_count": 25,
     "metadata": {},
     "output_type": "execute_result"
    }
   ],
   "source": [
    "im.mode"
   ]
  },
  {
   "cell_type": "code",
   "execution_count": 26,
   "metadata": {},
   "outputs": [],
   "source": [
    "aa=np.array(im.getdata())"
   ]
  },
  {
   "cell_type": "code",
   "execution_count": 27,
   "metadata": {},
   "outputs": [
    {
     "data": {
      "text/plain": [
       "(200000, 4)"
      ]
     },
     "execution_count": 27,
     "metadata": {},
     "output_type": "execute_result"
    }
   ],
   "source": [
    "aa.shape"
   ]
  },
  {
   "cell_type": "code",
   "execution_count": null,
   "metadata": {},
   "outputs": [],
   "source": []
  }
 ],
 "metadata": {
  "kernelspec": {
   "display_name": "Python 3",
   "language": "python",
   "name": "python3"
  },
  "language_info": {
   "codemirror_mode": {
    "name": "ipython",
    "version": 3
   },
   "file_extension": ".py",
   "mimetype": "text/x-python",
   "name": "python",
   "nbconvert_exporter": "python",
   "pygments_lexer": "ipython3",
   "version": "3.7.6"
  }
 },
 "nbformat": 4,
 "nbformat_minor": 4
}
